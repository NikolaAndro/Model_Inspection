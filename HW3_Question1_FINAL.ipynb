{
  "nbformat": 4,
  "nbformat_minor": 0,
  "metadata": {
    "colab": {
      "name": "HW3_Question1 (1).ipynb",
      "provenance": [],
      "collapsed_sections": []
    },
    "kernelspec": {
      "name": "python3",
      "display_name": "Python 3"
    },
    "language_info": {
      "name": "python"
    },
    "accelerator": "GPU"
  },
  "cells": [
    {
      "cell_type": "markdown",
      "source": [
        "Create a convolutional neural network using the helper functions and compare the performance with ResNet50 using transfer learning. This notebook contains two sections.\n",
        "\n",
        "* Section 1 : Create a CNN\n",
        "* Section 2 : Transfer Lerarning \n",
        "\n",
        "Note: The below assignment to set to run with tensorflow version 2.0 and above."
      ],
      "metadata": {
        "id": "JyGk8SZ1EQyt"
      }
    },
    {
      "cell_type": "code",
      "execution_count": null,
      "metadata": {
        "id": "Jq9fGdoZpR_e",
        "colab": {
          "base_uri": "https://localhost:8080/"
        },
        "outputId": "ee07c739-409f-4459-f7ac-c002680ce105"
      },
      "outputs": [
        {
          "output_type": "stream",
          "name": "stdout",
          "text": [
            "2.8.0\n"
          ]
        }
      ],
      "source": [
        "import tensorflow\n",
        "print(tensorflow.__version__)"
      ]
    },
    {
      "cell_type": "code",
      "source": [
        "!pip install tensorflow_ranking"
      ],
      "metadata": {
        "colab": {
          "base_uri": "https://localhost:8080/"
        },
        "id": "GjOxU1S4bPiq",
        "outputId": "a19dcb93-ed5e-4eb7-ed2c-9b28693777a2"
      },
      "execution_count": null,
      "outputs": [
        {
          "output_type": "stream",
          "name": "stdout",
          "text": [
            "Collecting tensorflow_ranking\n",
            "  Downloading tensorflow_ranking-0.5.0-py2.py3-none-any.whl (141 kB)\n",
            "\u001b[?25l\r\u001b[K     |██▎                             | 10 kB 22.2 MB/s eta 0:00:01\r\u001b[K     |████▋                           | 20 kB 15.3 MB/s eta 0:00:01\r\u001b[K     |███████                         | 30 kB 10.1 MB/s eta 0:00:01\r\u001b[K     |█████████▎                      | 40 kB 11.1 MB/s eta 0:00:01\r\u001b[K     |███████████▋                    | 51 kB 9.1 MB/s eta 0:00:01\r\u001b[K     |██████████████                  | 61 kB 10.6 MB/s eta 0:00:01\r\u001b[K     |████████████████▎               | 71 kB 10.9 MB/s eta 0:00:01\r\u001b[K     |██████████████████▌             | 81 kB 11.9 MB/s eta 0:00:01\r\u001b[K     |████████████████████▉           | 92 kB 5.4 MB/s eta 0:00:01\r\u001b[K     |███████████████████████▏        | 102 kB 5.9 MB/s eta 0:00:01\r\u001b[K     |█████████████████████████▌      | 112 kB 5.9 MB/s eta 0:00:01\r\u001b[K     |███████████████████████████▉    | 122 kB 5.9 MB/s eta 0:00:01\r\u001b[K     |██████████████████████████████▏ | 133 kB 5.9 MB/s eta 0:00:01\r\u001b[K     |████████████████████████████████| 141 kB 5.9 MB/s \n",
            "\u001b[?25hRequirement already satisfied: six>=1.10.0 in /usr/local/lib/python3.7/dist-packages (from tensorflow_ranking) (1.15.0)\n",
            "Requirement already satisfied: absl-py>=0.1.6 in /usr/local/lib/python3.7/dist-packages (from tensorflow_ranking) (1.0.0)\n",
            "Requirement already satisfied: numpy>=1.13.3 in /usr/local/lib/python3.7/dist-packages (from tensorflow_ranking) (1.21.6)\n",
            "Collecting tensorflow-serving-api<3.0.0,>=2.0.0\n",
            "  Downloading tensorflow_serving_api-2.8.0-py2.py3-none-any.whl (37 kB)\n",
            "Requirement already satisfied: tensorflow<3,>=2.8.0 in /usr/local/lib/python3.7/dist-packages (from tensorflow-serving-api<3.0.0,>=2.0.0->tensorflow_ranking) (2.8.0)\n",
            "Requirement already satisfied: protobuf>=3.6.0 in /usr/local/lib/python3.7/dist-packages (from tensorflow-serving-api<3.0.0,>=2.0.0->tensorflow_ranking) (3.17.3)\n",
            "Requirement already satisfied: grpcio<2,>=1.0 in /usr/local/lib/python3.7/dist-packages (from tensorflow-serving-api<3.0.0,>=2.0.0->tensorflow_ranking) (1.44.0)\n",
            "Requirement already satisfied: tensorboard<2.9,>=2.8 in /usr/local/lib/python3.7/dist-packages (from tensorflow<3,>=2.8.0->tensorflow-serving-api<3.0.0,>=2.0.0->tensorflow_ranking) (2.8.0)\n",
            "Requirement already satisfied: keras<2.9,>=2.8.0rc0 in /usr/local/lib/python3.7/dist-packages (from tensorflow<3,>=2.8.0->tensorflow-serving-api<3.0.0,>=2.0.0->tensorflow_ranking) (2.8.0)\n",
            "Requirement already satisfied: opt-einsum>=2.3.2 in /usr/local/lib/python3.7/dist-packages (from tensorflow<3,>=2.8.0->tensorflow-serving-api<3.0.0,>=2.0.0->tensorflow_ranking) (3.3.0)\n",
            "Requirement already satisfied: keras-preprocessing>=1.1.1 in /usr/local/lib/python3.7/dist-packages (from tensorflow<3,>=2.8.0->tensorflow-serving-api<3.0.0,>=2.0.0->tensorflow_ranking) (1.1.2)\n",
            "Requirement already satisfied: tensorflow-io-gcs-filesystem>=0.23.1 in /usr/local/lib/python3.7/dist-packages (from tensorflow<3,>=2.8.0->tensorflow-serving-api<3.0.0,>=2.0.0->tensorflow_ranking) (0.25.0)\n",
            "Requirement already satisfied: google-pasta>=0.1.1 in /usr/local/lib/python3.7/dist-packages (from tensorflow<3,>=2.8.0->tensorflow-serving-api<3.0.0,>=2.0.0->tensorflow_ranking) (0.2.0)\n",
            "Requirement already satisfied: gast>=0.2.1 in /usr/local/lib/python3.7/dist-packages (from tensorflow<3,>=2.8.0->tensorflow-serving-api<3.0.0,>=2.0.0->tensorflow_ranking) (0.5.3)\n",
            "Requirement already satisfied: h5py>=2.9.0 in /usr/local/lib/python3.7/dist-packages (from tensorflow<3,>=2.8.0->tensorflow-serving-api<3.0.0,>=2.0.0->tensorflow_ranking) (3.1.0)\n",
            "Requirement already satisfied: astunparse>=1.6.0 in /usr/local/lib/python3.7/dist-packages (from tensorflow<3,>=2.8.0->tensorflow-serving-api<3.0.0,>=2.0.0->tensorflow_ranking) (1.6.3)\n",
            "Requirement already satisfied: typing-extensions>=3.6.6 in /usr/local/lib/python3.7/dist-packages (from tensorflow<3,>=2.8.0->tensorflow-serving-api<3.0.0,>=2.0.0->tensorflow_ranking) (4.2.0)\n",
            "Requirement already satisfied: setuptools in /usr/local/lib/python3.7/dist-packages (from tensorflow<3,>=2.8.0->tensorflow-serving-api<3.0.0,>=2.0.0->tensorflow_ranking) (57.4.0)\n",
            "Requirement already satisfied: flatbuffers>=1.12 in /usr/local/lib/python3.7/dist-packages (from tensorflow<3,>=2.8.0->tensorflow-serving-api<3.0.0,>=2.0.0->tensorflow_ranking) (2.0)\n",
            "Requirement already satisfied: termcolor>=1.1.0 in /usr/local/lib/python3.7/dist-packages (from tensorflow<3,>=2.8.0->tensorflow-serving-api<3.0.0,>=2.0.0->tensorflow_ranking) (1.1.0)\n",
            "Requirement already satisfied: libclang>=9.0.1 in /usr/local/lib/python3.7/dist-packages (from tensorflow<3,>=2.8.0->tensorflow-serving-api<3.0.0,>=2.0.0->tensorflow_ranking) (14.0.1)\n",
            "Requirement already satisfied: wrapt>=1.11.0 in /usr/local/lib/python3.7/dist-packages (from tensorflow<3,>=2.8.0->tensorflow-serving-api<3.0.0,>=2.0.0->tensorflow_ranking) (1.14.0)\n",
            "Collecting tf-estimator-nightly==2.8.0.dev2021122109\n",
            "  Downloading tf_estimator_nightly-2.8.0.dev2021122109-py2.py3-none-any.whl (462 kB)\n",
            "\u001b[K     |████████████████████████████████| 462 kB 45.8 MB/s \n",
            "\u001b[?25hRequirement already satisfied: wheel<1.0,>=0.23.0 in /usr/local/lib/python3.7/dist-packages (from astunparse>=1.6.0->tensorflow<3,>=2.8.0->tensorflow-serving-api<3.0.0,>=2.0.0->tensorflow_ranking) (0.37.1)\n",
            "Requirement already satisfied: cached-property in /usr/local/lib/python3.7/dist-packages (from h5py>=2.9.0->tensorflow<3,>=2.8.0->tensorflow-serving-api<3.0.0,>=2.0.0->tensorflow_ranking) (1.5.2)\n",
            "Requirement already satisfied: werkzeug>=0.11.15 in /usr/local/lib/python3.7/dist-packages (from tensorboard<2.9,>=2.8->tensorflow<3,>=2.8.0->tensorflow-serving-api<3.0.0,>=2.0.0->tensorflow_ranking) (1.0.1)\n",
            "Requirement already satisfied: tensorboard-plugin-wit>=1.6.0 in /usr/local/lib/python3.7/dist-packages (from tensorboard<2.9,>=2.8->tensorflow<3,>=2.8.0->tensorflow-serving-api<3.0.0,>=2.0.0->tensorflow_ranking) (1.8.1)\n",
            "Requirement already satisfied: markdown>=2.6.8 in /usr/local/lib/python3.7/dist-packages (from tensorboard<2.9,>=2.8->tensorflow<3,>=2.8.0->tensorflow-serving-api<3.0.0,>=2.0.0->tensorflow_ranking) (3.3.6)\n",
            "Requirement already satisfied: google-auth<3,>=1.6.3 in /usr/local/lib/python3.7/dist-packages (from tensorboard<2.9,>=2.8->tensorflow<3,>=2.8.0->tensorflow-serving-api<3.0.0,>=2.0.0->tensorflow_ranking) (1.35.0)\n",
            "Requirement already satisfied: google-auth-oauthlib<0.5,>=0.4.1 in /usr/local/lib/python3.7/dist-packages (from tensorboard<2.9,>=2.8->tensorflow<3,>=2.8.0->tensorflow-serving-api<3.0.0,>=2.0.0->tensorflow_ranking) (0.4.6)\n",
            "Requirement already satisfied: tensorboard-data-server<0.7.0,>=0.6.0 in /usr/local/lib/python3.7/dist-packages (from tensorboard<2.9,>=2.8->tensorflow<3,>=2.8.0->tensorflow-serving-api<3.0.0,>=2.0.0->tensorflow_ranking) (0.6.1)\n",
            "Requirement already satisfied: requests<3,>=2.21.0 in /usr/local/lib/python3.7/dist-packages (from tensorboard<2.9,>=2.8->tensorflow<3,>=2.8.0->tensorflow-serving-api<3.0.0,>=2.0.0->tensorflow_ranking) (2.23.0)\n",
            "Requirement already satisfied: pyasn1-modules>=0.2.1 in /usr/local/lib/python3.7/dist-packages (from google-auth<3,>=1.6.3->tensorboard<2.9,>=2.8->tensorflow<3,>=2.8.0->tensorflow-serving-api<3.0.0,>=2.0.0->tensorflow_ranking) (0.2.8)\n",
            "Requirement already satisfied: rsa<5,>=3.1.4 in /usr/local/lib/python3.7/dist-packages (from google-auth<3,>=1.6.3->tensorboard<2.9,>=2.8->tensorflow<3,>=2.8.0->tensorflow-serving-api<3.0.0,>=2.0.0->tensorflow_ranking) (4.8)\n",
            "Requirement already satisfied: cachetools<5.0,>=2.0.0 in /usr/local/lib/python3.7/dist-packages (from google-auth<3,>=1.6.3->tensorboard<2.9,>=2.8->tensorflow<3,>=2.8.0->tensorflow-serving-api<3.0.0,>=2.0.0->tensorflow_ranking) (4.2.4)\n",
            "Requirement already satisfied: requests-oauthlib>=0.7.0 in /usr/local/lib/python3.7/dist-packages (from google-auth-oauthlib<0.5,>=0.4.1->tensorboard<2.9,>=2.8->tensorflow<3,>=2.8.0->tensorflow-serving-api<3.0.0,>=2.0.0->tensorflow_ranking) (1.3.1)\n",
            "Requirement already satisfied: importlib-metadata>=4.4 in /usr/local/lib/python3.7/dist-packages (from markdown>=2.6.8->tensorboard<2.9,>=2.8->tensorflow<3,>=2.8.0->tensorflow-serving-api<3.0.0,>=2.0.0->tensorflow_ranking) (4.11.3)\n",
            "Requirement already satisfied: zipp>=0.5 in /usr/local/lib/python3.7/dist-packages (from importlib-metadata>=4.4->markdown>=2.6.8->tensorboard<2.9,>=2.8->tensorflow<3,>=2.8.0->tensorflow-serving-api<3.0.0,>=2.0.0->tensorflow_ranking) (3.8.0)\n",
            "Requirement already satisfied: pyasn1<0.5.0,>=0.4.6 in /usr/local/lib/python3.7/dist-packages (from pyasn1-modules>=0.2.1->google-auth<3,>=1.6.3->tensorboard<2.9,>=2.8->tensorflow<3,>=2.8.0->tensorflow-serving-api<3.0.0,>=2.0.0->tensorflow_ranking) (0.4.8)\n",
            "Requirement already satisfied: idna<3,>=2.5 in /usr/local/lib/python3.7/dist-packages (from requests<3,>=2.21.0->tensorboard<2.9,>=2.8->tensorflow<3,>=2.8.0->tensorflow-serving-api<3.0.0,>=2.0.0->tensorflow_ranking) (2.10)\n",
            "Requirement already satisfied: urllib3!=1.25.0,!=1.25.1,<1.26,>=1.21.1 in /usr/local/lib/python3.7/dist-packages (from requests<3,>=2.21.0->tensorboard<2.9,>=2.8->tensorflow<3,>=2.8.0->tensorflow-serving-api<3.0.0,>=2.0.0->tensorflow_ranking) (1.24.3)\n",
            "Requirement already satisfied: certifi>=2017.4.17 in /usr/local/lib/python3.7/dist-packages (from requests<3,>=2.21.0->tensorboard<2.9,>=2.8->tensorflow<3,>=2.8.0->tensorflow-serving-api<3.0.0,>=2.0.0->tensorflow_ranking) (2021.10.8)\n",
            "Requirement already satisfied: chardet<4,>=3.0.2 in /usr/local/lib/python3.7/dist-packages (from requests<3,>=2.21.0->tensorboard<2.9,>=2.8->tensorflow<3,>=2.8.0->tensorflow-serving-api<3.0.0,>=2.0.0->tensorflow_ranking) (3.0.4)\n",
            "Requirement already satisfied: oauthlib>=3.0.0 in /usr/local/lib/python3.7/dist-packages (from requests-oauthlib>=0.7.0->google-auth-oauthlib<0.5,>=0.4.1->tensorboard<2.9,>=2.8->tensorflow<3,>=2.8.0->tensorflow-serving-api<3.0.0,>=2.0.0->tensorflow_ranking) (3.2.0)\n",
            "Installing collected packages: tf-estimator-nightly, tensorflow-serving-api, tensorflow-ranking\n",
            "Successfully installed tensorflow-ranking-0.5.0 tensorflow-serving-api-2.8.0 tf-estimator-nightly-2.8.0.dev2021122109\n"
          ]
        }
      ]
    },
    {
      "cell_type": "code",
      "source": [
        "import pkgutil\n",
        "\n",
        "# this is the package we are inspecting -- for example 'email' from stdlib\n",
        "import tensorflow_ranking.python.keras\n",
        "\n",
        "package = tensorflow_ranking.python.keras\n",
        "for importer, modname, ispkg in pkgutil.iter_modules(package.__path__):\n",
        "    print(\"Found submodule %s (is a package: %s)\" % (modname, ispkg))"
      ],
      "metadata": {
        "colab": {
          "base_uri": "https://localhost:8080/"
        },
        "id": "eIHfTrY1KJhi",
        "outputId": "98b7d5e1-178a-472e-b167-4e57fd341d9c"
      },
      "execution_count": null,
      "outputs": [
        {
          "output_type": "stream",
          "name": "stdout",
          "text": [
            "Found submodule canned (is a package: True)\n",
            "Found submodule estimator (is a package: False)\n",
            "Found submodule feature (is a package: False)\n",
            "Found submodule layers (is a package: False)\n",
            "Found submodule losses (is a package: False)\n",
            "Found submodule metrics (is a package: False)\n",
            "Found submodule model (is a package: False)\n",
            "Found submodule network (is a package: False)\n",
            "Found submodule pipeline (is a package: False)\n",
            "Found submodule saved_model (is a package: False)\n",
            "Found submodule strategy_utils (is a package: False)\n",
            "Found submodule utils (is a package: False)\n"
          ]
        }
      ]
    },
    {
      "cell_type": "markdown",
      "source": [
        "## Import Libraries and load cifar10 dataset."
      ],
      "metadata": {
        "id": "agA2OphbEJNR"
      }
    },
    {
      "cell_type": "code",
      "source": [
        "import numpy as np\n",
        "import matplotlib.pyplot as plt\n",
        "from sklearn.model_selection import train_test_split\n",
        "from keras.datasets import cifar10\n",
        "from keras.applications.resnet import ResNet50\n",
        "from tensorflow.keras.utils import  to_categorical\n",
        "from keras.models import Sequential\n",
        "from keras.layers import Dense, Flatten, BatchNormalization, Dropout, Conv2D, MaxPooling2D, Activation, UpSampling2D\n",
        "from keras.preprocessing.image import ImageDataGenerator\n",
        "#import additional libraries if needed\n",
        "from tensorflow.keras.optimizers import SGD, RMSprop, Adam\n",
        "from keras import regularizers\n",
        "from tensorflow_ranking.python.keras.metrics import MeanAveragePrecisionMetric\n"
      ],
      "metadata": {
        "id": "i2q9GBaJEOKg"
      },
      "execution_count": null,
      "outputs": []
    },
    {
      "cell_type": "code",
      "source": [
        "def load_cifar10_data():\n",
        "  # Divide the data in Train and Test Datasets\n",
        "  (x_train,y_train),(x_test,y_test) = cifar10.load_data()\n",
        "  return (x_train,y_train),(x_test,y_test)"
      ],
      "metadata": {
        "id": "jrb7ROzAFXIR"
      },
      "execution_count": null,
      "outputs": []
    },
    {
      "cell_type": "code",
      "source": [
        "def convert_to_categorical(y_train, y_test):\n",
        "  y_train=to_categorical(y_train)\n",
        "  y_test=to_categorical(y_test)\n",
        "  return y_train, y_test"
      ],
      "metadata": {
        "id": "_jGeO2wEHeuj"
      },
      "execution_count": null,
      "outputs": []
    },
    {
      "cell_type": "code",
      "source": [
        "(x_train,y_train),(x_test,y_test) = load_cifar10_data()\n",
        "y_train, y_test = convert_to_categorical(y_train, y_test)\n",
        "# Reduce pixel values to range 0-1.\n",
        "x_train, x_test = x_train / 255.0, x_test / 255.0\n",
        "# flatten the label values\n",
        "# y_train, y_test = y_train.flatten(), y_test.flatten()"
      ],
      "metadata": {
        "id": "mEzcJvqJsESl",
        "colab": {
          "base_uri": "https://localhost:8080/"
        },
        "outputId": "9651a6c0-9454-438e-c10f-215823b0ad41"
      },
      "execution_count": null,
      "outputs": [
        {
          "output_type": "stream",
          "name": "stdout",
          "text": [
            "Downloading data from https://www.cs.toronto.edu/~kriz/cifar-10-python.tar.gz\n",
            "170500096/170498071 [==============================] - 13s 0us/step\n",
            "170508288/170498071 [==============================] - 13s 0us/step\n"
          ]
        }
      ]
    },
    {
      "cell_type": "code",
      "source": [
        "print('x_train shape:', x_train.shape)\n",
        "print(x_train.shape[0], 'train samples')\n",
        "print(x_test.shape[0], 'test samples')"
      ],
      "metadata": {
        "id": "ReC3emh2sLC-",
        "colab": {
          "base_uri": "https://localhost:8080/"
        },
        "outputId": "046d5ddb-3cf6-4903-8c07-286db6777973"
      },
      "execution_count": null,
      "outputs": [
        {
          "output_type": "stream",
          "name": "stdout",
          "text": [
            "x_train shape: (50000, 32, 32, 3)\n",
            "50000 train samples\n",
            "10000 test samples\n"
          ]
        }
      ]
    },
    {
      "cell_type": "code",
      "source": [
        "def plot_3_by_3_images():\n",
        "  # visualize data by plotting images\n",
        "  fig, ax = plt.subplots(3, 3)\n",
        "  k = 0\n",
        "  \n",
        "  for i in range(3):\n",
        "      for j in range(3):\n",
        "          ax[i][j].imshow(x_train[k], aspect='auto')\n",
        "          k += 1\n",
        "  \n",
        "  plt.show()"
      ],
      "metadata": {
        "id": "zhlbwh1432_G"
      },
      "execution_count": null,
      "outputs": []
    },
    {
      "cell_type": "code",
      "source": [
        "plot_3_by_3_images()"
      ],
      "metadata": {
        "id": "osifimBMCpS7",
        "colab": {
          "base_uri": "https://localhost:8080/",
          "height": 268
        },
        "outputId": "33a50e60-70fb-48a5-d4ff-c4f059cb274e"
      },
      "execution_count": null,
      "outputs": [
        {
          "output_type": "display_data",
          "data": {
            "text/plain": [
              "<Figure size 432x288 with 9 Axes>"
            ],
            "image/png": "[encoded data removed]"
          },
          "metadata": {
            "needs_background": "light"
          }
        }
      ]
    },
    {
      "cell_type": "code",
      "source": [
        "display_name = {0: 'airplane', 1: 'automobile', 2: 'bird', 3: 'cat', 4: 'deer', 5: 'dog', 6: 'frog', 7: 'horse', 8: 'ship', 9: 'truck'}\n",
        "\n",
        "def display_image(x, y, index):\n",
        "    some_image = x[index]\n",
        "    plt.imshow(some_image, aspect='auto')\n",
        "    plt.axis('off')\n",
        "    plt.show()\n",
        "    label_index = np.argmax(y[index])\n",
        "    # print(label_index)\n",
        "    print(display_name.get(label_index))\n",
        "  \n"
      ],
      "metadata": {
        "id": "0xQ8xRH-n-Qt"
      },
      "execution_count": null,
      "outputs": []
    },
    {
      "cell_type": "code",
      "source": [
        "display_image(x_train, y_train, 100)"
      ],
      "metadata": {
        "id": "nw4Rhc2l8v49",
        "colab": {
          "base_uri": "https://localhost:8080/",
          "height": 265
        },
        "outputId": "9866a879-382a-4ab9-b067-5b9475514cef"
      },
      "execution_count": null,
      "outputs": [
        {
          "output_type": "display_data",
          "data": {
            "text/plain": [
              "<Figure size 432x288 with 1 Axes>"
            ],
            "image/png": "[encoded data removed]"
          },
          "metadata": {
            "needs_background": "light"
          }
        },
        {
          "output_type": "stream",
          "name": "stdout",
          "text": [
            "ship\n"
          ]
        }
      ]
    },
    {
      "cell_type": "code",
      "source": [
        "display_image(x_train, y_train, 150)"
      ],
      "metadata": {
        "id": "8-vIeZ3O-ruF",
        "colab": {
          "base_uri": "https://localhost:8080/",
          "height": 265
        },
        "outputId": "a9025376-aa24-45cc-9e5e-44e249269b75"
      },
      "execution_count": null,
      "outputs": [
        {
          "output_type": "display_data",
          "data": {
            "text/plain": [
              "<Figure size 432x288 with 1 Axes>"
            ],
            "image/png": "[encoded data removed]"
          },
          "metadata": {
            "needs_background": "light"
          }
        },
        {
          "output_type": "stream",
          "name": "stdout",
          "text": [
            "cat\n"
          ]
        }
      ]
    },
    {
      "cell_type": "markdown",
      "source": [
        "## Section 1: Create a convolutional neural network \n",
        "Create a convolutional neural network using the helper functions and compare the performance with ResNet50 using transfer learning.\n"
      ],
      "metadata": {
        "id": "LP8pay9aAHnD"
      }
    },
    {
      "cell_type": "code",
      "source": [
        "num_classes = 10\n",
        "batch_size= 32\n",
        "epochs = 50\n",
        "weight_decay = 1e-4\n",
        "\n",
        "def create_cnn_model():\n",
        "  model = Sequential()\n",
        "  model.add(Conv2D(32, (3,3), padding='same', kernel_regularizer=regularizers.l2(weight_decay), input_shape=x_train.shape[1:]))\n",
        "  model.add(Activation('elu'))\n",
        "  model.add(BatchNormalization())\n",
        "  model.add(Conv2D(32, (3,3), padding='same', kernel_regularizer=regularizers.l2(weight_decay)))\n",
        "  model.add(Activation('elu'))\n",
        "  model.add(BatchNormalization())\n",
        "  model.add(MaxPooling2D(pool_size=(2,2)))\n",
        "  model.add(Dropout(0.2))\n",
        "  \n",
        "  model.add(Conv2D(64, (3,3), padding='same', kernel_regularizer=regularizers.l2(weight_decay)))\n",
        "  model.add(Activation('elu'))\n",
        "  model.add(BatchNormalization())\n",
        "  model.add(Conv2D(64, (3,3), padding='same', kernel_regularizer=regularizers.l2(weight_decay)))\n",
        "  model.add(Activation('elu'))\n",
        "  model.add(BatchNormalization())\n",
        "  model.add(MaxPooling2D(pool_size=(2,2)))\n",
        "  model.add(Dropout(0.3))\n",
        "  \n",
        "  model.add(Conv2D(128, (3,3), padding='same', kernel_regularizer=regularizers.l2(weight_decay)))\n",
        "  model.add(Activation('elu'))\n",
        "  model.add(BatchNormalization())\n",
        "  model.add(Conv2D(128, (3,3), padding='same', kernel_regularizer=regularizers.l2(weight_decay)))\n",
        "  model.add(Activation('elu'))\n",
        "  model.add(BatchNormalization())\n",
        "  model.add(MaxPooling2D(pool_size=(2,2)))\n",
        "  model.add(Dropout(0.4))\n",
        "  \n",
        "  model.add(Flatten())\n",
        "  # Selvaraju et al. simply yet ingeniously propose to pass the heatmap through\n",
        "  # a ReLU function to filter out the negative areas, setting them to zero \n",
        "  # importance, while maintaining importance of the positive areas.\n",
        "  model.add(Dense(256, activation='relu'))\n",
        "  # Adding name of the layer allows us to use this layer in Grad-CAM mapping\n",
        "  model.add(Dense(num_classes, activation='softmax', name='visualized_layer'))\n",
        "\n",
        "\n",
        " \n",
        "  return model\n",
        "\n",
        "\n",
        "def compile_cnn_model(model):\n",
        "  #TODO Define and compile your model using model.compile(...)\n",
        "  opt = SGD(learning_rate=0.001, momentum=0.9)\n",
        "  model.compile(optimizer=opt, loss='categorical_crossentropy', metrics=['accuracy', MeanAveragePrecisionMetric()])\n",
        "\n",
        "def compile_cnn_model_2(model):\n",
        "  #TODO Define and compile your model using model.compile(...)\n",
        "  opt = SGD(learning_rate=0.001, momentum=0.9)\n",
        "  model.compile(optimizer=opt, loss='categorical_crossentropy', metrics=['accuracy'])\n",
        "\n",
        "\n",
        "def fit_cnn_model(model, x_train, y_train, batch_size, epochs):\n",
        "  #TODO Define model.fit(...) with x, y, batch_size, steps_per_epoch, epochs, etc...\n",
        "  history = model.fit(x_train, y_train, epochs=epochs, batch_size = batch_size, callbacks=[history_logger])\n",
        "  return history\n",
        "\n",
        "def eval_cnn_model(model, x_test, y_test):\n",
        "  scores = model.evaluate(x_test, y_test, batch_size=128, verbose=1)\n",
        "  print('Test loss:', scores[0])\n",
        "  print('Test accuracy:', scores[1])\n"
      ],
      "metadata": {
        "id": "kg7b_4VRAGuI"
      },
      "execution_count": null,
      "outputs": []
    },
    {
      "cell_type": "markdown",
      "source": [
        "Keras provides the capability to register callbacks when training a model. It is an object that can perform actions at various stages of training like at the start or end of an epoch, before or after a single batch, etc."
      ],
      "metadata": {
        "id": "vO44K3JFb1hY"
      }
    },
    {
      "cell_type": "code",
      "source": [
        "filename='log.csv'\n",
        "history_logger=tensorflow.keras.callbacks.CSVLogger(filename, separator=\",\", append=True)"
      ],
      "metadata": {
        "id": "KO6jDtqObwjx"
      },
      "execution_count": null,
      "outputs": []
    },
    {
      "cell_type": "code",
      "source": [
        "#create model\n",
        "cnn_model = create_cnn_model()\n",
        "\n",
        "#compile model\n",
        "compile_cnn_model(cnn_model)\n",
        "\n",
        "#fit model\n",
        "cnn_history = fit_cnn_model(cnn_model, x_train, y_train, batch_size, epochs)\n"
      ],
      "metadata": {
        "id": "JUsOHLD9DuNu",
        "colab": {
          "base_uri": "https://localhost:8080/"
        },
        "outputId": "ffdc32ed-8cab-4229-be5e-139c1dfb28d4"
      },
      "execution_count": null,
      "outputs": [
        {
          "output_type": "stream",
          "name": "stdout",
          "text": [
            "Epoch 1/50\n",
            "1563/1563 [==============================] - 33s 8ms/step - loss: 1.5855 - accuracy: 0.4445 - mean_average_precision_metric: 0.6327\n",
            "Epoch 2/50\n",
            "1563/1563 [==============================] - 13s 8ms/step - loss: 1.2084 - accuracy: 0.5807 - mean_average_precision_metric: 0.7349\n",
            "Epoch 3/50\n",
            "1563/1563 [==============================] - 13s 8ms/step - loss: 1.0530 - accuracy: 0.6376 - mean_average_precision_metric: 0.7747\n",
            "Epoch 4/50\n",
            "1563/1563 [==============================] - 13s 8ms/step - loss: 0.9622 - accuracy: 0.6679 - mean_average_precision_metric: 0.7957\n",
            "Epoch 5/50\n",
            "1563/1563 [==============================] - 14s 9ms/step - loss: 0.8896 - accuracy: 0.6984 - mean_average_precision_metric: 0.8154\n",
            "Epoch 6/50\n",
            "1563/1563 [==============================] - 13s 8ms/step - loss: 0.8372 - accuracy: 0.7177 - mean_average_precision_metric: 0.8283\n",
            "Epoch 7/50\n",
            "1563/1563 [==============================] - 13s 9ms/step - loss: 0.7968 - accuracy: 0.7311 - mean_average_precision_metric: 0.8374\n",
            "Epoch 8/50\n",
            "1563/1563 [==============================] - 13s 8ms/step - loss: 0.7559 - accuracy: 0.7460 - mean_average_precision_metric: 0.8472\n",
            "Epoch 9/50\n",
            "1563/1563 [==============================] - 13s 8ms/step - loss: 0.7217 - accuracy: 0.7573 - mean_average_precision_metric: 0.8548\n",
            "Epoch 10/50\n",
            "1563/1563 [==============================] - 13s 8ms/step - loss: 0.6959 - accuracy: 0.7652 - mean_average_precision_metric: 0.8603\n",
            "Epoch 11/50\n",
            "1563/1563 [==============================] - 13s 8ms/step - loss: 0.6671 - accuracy: 0.7768 - mean_average_precision_metric: 0.8675\n",
            "Epoch 12/50\n",
            "1563/1563 [==============================] - 13s 8ms/step - loss: 0.6371 - accuracy: 0.7873 - mean_average_precision_metric: 0.8741\n",
            "Epoch 13/50\n",
            "1563/1563 [==============================] - 13s 8ms/step - loss: 0.6204 - accuracy: 0.7947 - mean_average_precision_metric: 0.8788\n",
            "Epoch 14/50\n",
            "1563/1563 [==============================] - 13s 8ms/step - loss: 0.6043 - accuracy: 0.7993 - mean_average_precision_metric: 0.8815\n",
            "Epoch 15/50\n",
            "1563/1563 [==============================] - 13s 8ms/step - loss: 0.5763 - accuracy: 0.8086 - mean_average_precision_metric: 0.8876\n",
            "Epoch 16/50\n",
            "1563/1563 [==============================] - 13s 8ms/step - loss: 0.5650 - accuracy: 0.8129 - mean_average_precision_metric: 0.8905\n",
            "Epoch 17/50\n",
            "1563/1563 [==============================] - 13s 8ms/step - loss: 0.5440 - accuracy: 0.8214 - mean_average_precision_metric: 0.8956\n",
            "Epoch 18/50\n",
            "1563/1563 [==============================] - 13s 8ms/step - loss: 0.5294 - accuracy: 0.8263 - mean_average_precision_metric: 0.8986\n",
            "Epoch 19/50\n",
            "1563/1563 [==============================] - 13s 8ms/step - loss: 0.5144 - accuracy: 0.8308 - mean_average_precision_metric: 0.9016\n",
            "Epoch 20/50\n",
            "1563/1563 [==============================] - 13s 8ms/step - loss: 0.4971 - accuracy: 0.8362 - mean_average_precision_metric: 0.9051\n",
            "Epoch 21/50\n",
            "1563/1563 [==============================] - 13s 8ms/step - loss: 0.4821 - accuracy: 0.8418 - mean_average_precision_metric: 0.9086\n",
            "Epoch 22/50\n",
            "1563/1563 [==============================] - 13s 8ms/step - loss: 0.4662 - accuracy: 0.8472 - mean_average_precision_metric: 0.9119\n",
            "Epoch 23/50\n",
            "1563/1563 [==============================] - 13s 8ms/step - loss: 0.4556 - accuracy: 0.8541 - mean_average_precision_metric: 0.9160\n",
            "Epoch 24/50\n",
            "1563/1563 [==============================] - 13s 8ms/step - loss: 0.4412 - accuracy: 0.8559 - mean_average_precision_metric: 0.9175\n",
            "Epoch 25/50\n",
            "1563/1563 [==============================] - 13s 8ms/step - loss: 0.4299 - accuracy: 0.8614 - mean_average_precision_metric: 0.9207\n",
            "Epoch 26/50\n",
            "1563/1563 [==============================] - 13s 8ms/step - loss: 0.4182 - accuracy: 0.8655 - mean_average_precision_metric: 0.9233\n",
            "Epoch 27/50\n",
            "1563/1563 [==============================] - 13s 8ms/step - loss: 0.4077 - accuracy: 0.8685 - mean_average_precision_metric: 0.9254\n",
            "Epoch 28/50\n",
            "1563/1563 [==============================] - 13s 8ms/step - loss: 0.3912 - accuracy: 0.8743 - mean_average_precision_metric: 0.9290\n",
            "Epoch 29/50\n",
            "1563/1563 [==============================] - 13s 8ms/step - loss: 0.3796 - accuracy: 0.8789 - mean_average_precision_metric: 0.9318\n",
            "Epoch 30/50\n",
            "1563/1563 [==============================] - 13s 8ms/step - loss: 0.3729 - accuracy: 0.8817 - mean_average_precision_metric: 0.9334\n",
            "Epoch 31/50\n",
            "1563/1563 [==============================] - 13s 8ms/step - loss: 0.3579 - accuracy: 0.8870 - mean_average_precision_metric: 0.9365\n",
            "Epoch 32/50\n",
            "1563/1563 [==============================] - 13s 8ms/step - loss: 0.3545 - accuracy: 0.8887 - mean_average_precision_metric: 0.9375\n",
            "Epoch 33/50\n",
            "1563/1563 [==============================] - 13s 8ms/step - loss: 0.3504 - accuracy: 0.8895 - mean_average_precision_metric: 0.9380\n",
            "Epoch 34/50\n",
            "1563/1563 [==============================] - 13s 8ms/step - loss: 0.3302 - accuracy: 0.8954 - mean_average_precision_metric: 0.9418\n",
            "Epoch 35/50\n",
            "1563/1563 [==============================] - 13s 8ms/step - loss: 0.3241 - accuracy: 0.8989 - mean_average_precision_metric: 0.9436\n",
            "Epoch 36/50\n",
            "1563/1563 [==============================] - 13s 8ms/step - loss: 0.3191 - accuracy: 0.8998 - mean_average_precision_metric: 0.9443\n",
            "Epoch 37/50\n",
            "1563/1563 [==============================] - 13s 8ms/step - loss: 0.3060 - accuracy: 0.9067 - mean_average_precision_metric: 0.9480\n",
            "Epoch 38/50\n",
            "1563/1563 [==============================] - 14s 9ms/step - loss: 0.3044 - accuracy: 0.9061 - mean_average_precision_metric: 0.9479\n",
            "Epoch 39/50\n",
            "1563/1563 [==============================] - 16s 10ms/step - loss: 0.2949 - accuracy: 0.9087 - mean_average_precision_metric: 0.9495\n",
            "Epoch 40/50\n",
            "1563/1563 [==============================] - 13s 8ms/step - loss: 0.2808 - accuracy: 0.9145 - mean_average_precision_metric: 0.9529\n",
            "Epoch 41/50\n",
            "1563/1563 [==============================] - 13s 8ms/step - loss: 0.2832 - accuracy: 0.9137 - mean_average_precision_metric: 0.9525\n",
            "Epoch 42/50\n",
            "1563/1563 [==============================] - 13s 8ms/step - loss: 0.2737 - accuracy: 0.9175 - mean_average_precision_metric: 0.9546\n",
            "Epoch 43/50\n",
            "1563/1563 [==============================] - 13s 8ms/step - loss: 0.2657 - accuracy: 0.9194 - mean_average_precision_metric: 0.9556\n",
            "Epoch 44/50\n",
            "1563/1563 [==============================] - 13s 8ms/step - loss: 0.2647 - accuracy: 0.9205 - mean_average_precision_metric: 0.9564\n",
            "Epoch 45/50\n",
            "1563/1563 [==============================] - 13s 8ms/step - loss: 0.2522 - accuracy: 0.9248 - mean_average_precision_metric: 0.9588\n",
            "Epoch 46/50\n",
            "1563/1563 [==============================] - 13s 8ms/step - loss: 0.2481 - accuracy: 0.9273 - mean_average_precision_metric: 0.9603\n",
            "Epoch 47/50\n",
            "1563/1563 [==============================] - 13s 8ms/step - loss: 0.2364 - accuracy: 0.9308 - mean_average_precision_metric: 0.9624\n",
            "Epoch 48/50\n",
            "1563/1563 [==============================] - 13s 8ms/step - loss: 0.2360 - accuracy: 0.9306 - mean_average_precision_metric: 0.9624\n",
            "Epoch 49/50\n",
            "1563/1563 [==============================] - 13s 8ms/step - loss: 0.2329 - accuracy: 0.9318 - mean_average_precision_metric: 0.9630\n",
            "Epoch 50/50\n",
            "1563/1563 [==============================] - 13s 8ms/step - loss: 0.2259 - accuracy: 0.9343 - mean_average_precision_metric: 0.9646\n"
          ]
        }
      ]
    },
    {
      "cell_type": "markdown",
      "source": [
        "# Save and load History object With Numpy\n",
        "\n",
        "A history object has a history field, it is a dictionary that holds different training metrics spanned across every training epoch. So e.g. history.history[‘loss’][10] will return a loss of your model in the 10th epoch of training. In order to save that you could pickle this dictionary."
      ],
      "metadata": {
        "id": "_ATU8SVDcGTp"
      }
    },
    {
      "cell_type": "code",
      "source": [
        "np.save('history_my_cnn_b32.npy',cnn_history.history)\n",
        "\n",
        "history_of_cnn=np.load('history_my_cnn_b32.npy',allow_pickle='TRUE').item()"
      ],
      "metadata": {
        "id": "p05sQOfOcTFU"
      },
      "execution_count": null,
      "outputs": []
    },
    {
      "cell_type": "code",
      "source": [
        "#print model summary\n",
        "cnn_model.summary()"
      ],
      "metadata": {
        "id": "I4Kj0rXMEOwj",
        "colab": {
          "base_uri": "https://localhost:8080/"
        },
        "outputId": "1d140df5-85bc-457e-ebe7-c50f562601f2"
      },
      "execution_count": null,
      "outputs": [
        {
          "output_type": "stream",
          "name": "stdout",
          "text": [
            "Model: \"sequential\"\n",
            "_________________________________________________________________\n",
            " Layer (type)                Output Shape              Param #   \n",
            "=================================================================\n",
            " conv2d (Conv2D)             (None, 32, 32, 32)        896       \n",
            "                                                                 \n",
            " activation (Activation)     (None, 32, 32, 32)        0         \n",
            "                                                                 \n",
            " batch_normalization (BatchN  (None, 32, 32, 32)       128       \n",
            " ormalization)                                                   \n",
            "                                                                 \n",
            " conv2d_1 (Conv2D)           (None, 32, 32, 32)        9248      \n",
            "                                                                 \n",
            " activation_1 (Activation)   (None, 32, 32, 32)        0         \n",
            "                                                                 \n",
            " batch_normalization_1 (Batc  (None, 32, 32, 32)       128       \n",
            " hNormalization)                                                 \n",
            "                                                                 \n",
            " max_pooling2d (MaxPooling2D  (None, 16, 16, 32)       0         \n",
            " )                                                               \n",
            "                                                                 \n",
            " dropout (Dropout)           (None, 16, 16, 32)        0         \n",
            "                                                                 \n",
            " conv2d_2 (Conv2D)           (None, 16, 16, 64)        18496     \n",
            "                                                                 \n",
            " activation_2 (Activation)   (None, 16, 16, 64)        0         \n",
            "                                                                 \n",
            " batch_normalization_2 (Batc  (None, 16, 16, 64)       256       \n",
            " hNormalization)                                                 \n",
            "                                                                 \n",
            " conv2d_3 (Conv2D)           (None, 16, 16, 64)        36928     \n",
            "                                                                 \n",
            " activation_3 (Activation)   (None, 16, 16, 64)        0         \n",
            "                                                                 \n",
            " batch_normalization_3 (Batc  (None, 16, 16, 64)       256       \n",
            " hNormalization)                                                 \n",
            "                                                                 \n",
            " max_pooling2d_1 (MaxPooling  (None, 8, 8, 64)         0         \n",
            " 2D)                                                             \n",
            "                                                                 \n",
            " dropout_1 (Dropout)         (None, 8, 8, 64)          0         \n",
            "                                                                 \n",
            " conv2d_4 (Conv2D)           (None, 8, 8, 128)         73856     \n",
            "                                                                 \n",
            " activation_4 (Activation)   (None, 8, 8, 128)         0         \n",
            "                                                                 \n",
            " batch_normalization_4 (Batc  (None, 8, 8, 128)        512       \n",
            " hNormalization)                                                 \n",
            "                                                                 \n",
            " conv2d_5 (Conv2D)           (None, 8, 8, 128)         147584    \n",
            "                                                                 \n",
            " activation_5 (Activation)   (None, 8, 8, 128)         0         \n",
            "                                                                 \n",
            " batch_normalization_5 (Batc  (None, 8, 8, 128)        512       \n",
            " hNormalization)                                                 \n",
            "                                                                 \n",
            " max_pooling2d_2 (MaxPooling  (None, 4, 4, 128)        0         \n",
            " 2D)                                                             \n",
            "                                                                 \n",
            " dropout_2 (Dropout)         (None, 4, 4, 128)         0         \n",
            "                                                                 \n",
            " flatten (Flatten)           (None, 2048)              0         \n",
            "                                                                 \n",
            " dense (Dense)               (None, 256)               524544    \n",
            "                                                                 \n",
            " visualized_layer (Dense)    (None, 10)                2570      \n",
            "                                                                 \n",
            "=================================================================\n",
            "Total params: 815,914\n",
            "Trainable params: 815,018\n",
            "Non-trainable params: 896\n",
            "_________________________________________________________________\n"
          ]
        }
      ]
    },
    {
      "cell_type": "code",
      "source": [
        "cnn_model.history.history.keys()"
      ],
      "metadata": {
        "colab": {
          "base_uri": "https://localhost:8080/"
        },
        "id": "W79A02TZcdsF",
        "outputId": "7b907f03-b2a9-4f0b-e563-0a541fe680c0"
      },
      "execution_count": null,
      "outputs": [
        {
          "output_type": "execute_result",
          "data": {
            "text/plain": [
              "dict_keys(['loss', 'accuracy', 'mean_average_precision_metric'])"
            ]
          },
          "metadata": {},
          "execution_count": 20
        }
      ]
    },
    {
      "cell_type": "code",
      "source": [
        "#evaluate cnn model\n",
        "eval_cnn_model(cnn_model, x_test, y_test)"
      ],
      "metadata": {
        "id": "Vfedq39eEDXt",
        "colab": {
          "base_uri": "https://localhost:8080/"
        },
        "outputId": "67511f43-8e0b-426e-fc94-a26e96e13ea1"
      },
      "execution_count": null,
      "outputs": [
        {
          "output_type": "stream",
          "name": "stdout",
          "text": [
            "79/79 [==============================] - 1s 9ms/step - loss: 0.6299 - accuracy: 0.8389 - mean_average_precision_metric: 0.9048\n",
            "Test loss: 0.6299034357070923\n",
            "Test accuracy: 0.8389000296592712\n"
          ]
        }
      ]
    },
    {
      "cell_type": "code",
      "source": [
        "# install HDF5 for Python to save the model\n",
        "!pip install h5py"
      ],
      "metadata": {
        "colab": {
          "base_uri": "https://localhost:8080/"
        },
        "id": "aE7_1yXm_bwU",
        "outputId": "dfdeb99d-737a-4968-8d32-199098b8536b"
      },
      "execution_count": null,
      "outputs": [
        {
          "output_type": "stream",
          "name": "stdout",
          "text": [
            "Requirement already satisfied: h5py in /usr/local/lib/python3.7/dist-packages (3.1.0)\n",
            "Requirement already satisfied: numpy>=1.14.5 in /usr/local/lib/python3.7/dist-packages (from h5py) (1.21.6)\n",
            "Requirement already satisfied: cached-property in /usr/local/lib/python3.7/dist-packages (from h5py) (1.5.2)\n"
          ]
        }
      ]
    },
    {
      "cell_type": "code",
      "source": [
        "# Save the model\n",
        "cnn_model.save(\"my_cifar_cnn_model_b32\")\n",
        "cnn_model.save(\"my_cifar_cnn_model_b32.h5\")"
      ],
      "metadata": {
        "id": "zQQcwlKB_Nly",
        "colab": {
          "base_uri": "https://localhost:8080/"
        },
        "outputId": "45556096-372d-45fe-ccaf-7495977e6a86"
      },
      "execution_count": null,
      "outputs": [
        {
          "output_type": "stream",
          "name": "stdout",
          "text": [
            "INFO:tensorflow:Assets written to: my_cifar_cnn_model_b32/assets\n"
          ]
        }
      ]
    },
    {
      "cell_type": "markdown",
      "source": [
        "# Zip the model to download it"
      ],
      "metadata": {
        "id": "07ZAhcwiq_4-"
      }
    },
    {
      "cell_type": "code",
      "source": [
        "!zip -r my_cifar_cnn_model_b32.zip my_cifar_cnn_model_b32"
      ],
      "metadata": {
        "id": "UaU7IBh8rCfc",
        "colab": {
          "base_uri": "https://localhost:8080/"
        },
        "outputId": "7c5e4556-4535-4db6-d5b4-7c96e0ec0b3b"
      },
      "execution_count": null,
      "outputs": [
        {
          "output_type": "stream",
          "name": "stdout",
          "text": [
            "  adding: my_cifar_cnn_model_b32/ (stored 0%)\n",
            "  adding: my_cifar_cnn_model_b32/saved_model.pb (deflated 90%)\n",
            "  adding: my_cifar_cnn_model_b32/variables/ (stored 0%)\n",
            "  adding: my_cifar_cnn_model_b32/variables/variables.index (deflated 74%)\n",
            "  adding: my_cifar_cnn_model_b32/variables/variables.data-00000-of-00001 (deflated 7%)\n",
            "  adding: my_cifar_cnn_model_b32/assets/ (stored 0%)\n",
            "  adding: my_cifar_cnn_model_b32/keras_metadata.pb (deflated 94%)\n"
          ]
        }
      ]
    },
    {
      "cell_type": "markdown",
      "source": [
        "# Section 2: Transfer Learning RESNET"
      ],
      "metadata": {
        "id": "G7q5hfD3qgnB"
      }
    },
    {
      "cell_type": "code",
      "source": [
        "num_classes = 10\n",
        "batch_size= 100\n",
        "epochs = 5\n",
        "\n",
        "def create_model():\n",
        "  model = Sequential()\n",
        "  #TODO Define ResNet50 and any additional layers.\n",
        "  model_init = ResNet50(weights='imagenet', include_top=False, input_shape=(256, 256, 3))\n",
        "  \n",
        "  model.add(UpSampling2D((2,2)))\n",
        "  model.add(UpSampling2D((2,2)))\n",
        "  model.add(UpSampling2D((2,2)))\n",
        "  model.add(model_init)\n",
        "  model.add(Flatten())\n",
        "  model.add(BatchNormalization())\n",
        "  model.add(Dense(128, activation='relu'))\n",
        "  model.add(Dropout(0.5))\n",
        "  model.add(BatchNormalization())\n",
        "  model.add(Dense(64, activation='relu'))\n",
        "  model.add(Dropout(0.5))\n",
        "  model.add(BatchNormalization())\n",
        "  model.add(Dense(10, activation='softmax'))\n",
        "\n",
        "  return model"
      ],
      "metadata": {
        "id": "w7rh7ahDtax_"
      },
      "execution_count": null,
      "outputs": []
    },
    {
      "cell_type": "code",
      "source": [
        "def compile_model(model):\n",
        "  #TODO Define and compile your model using model.compile(...)\n",
        "  model.compile(optimizer=RMSprop(lr=2e-5), loss='binary_crossentropy', metrics=['acc',MeanAveragePrecisionMetric()])"
      ],
      "metadata": {
        "id": "eDWLh_4gTQmF"
      },
      "execution_count": null,
      "outputs": []
    },
    {
      "cell_type": "code",
      "source": [
        "def fit_model(model, x_train, y_train, batch_size, epochs):\n",
        "  #TODO Define model.fit(...) with x, y, batch_size, steps_per_epoch, epochs, etc...\n",
        "  history = model.fit(x_train, y_train, epochs=epochs, batch_size = 20, validation_data=(x_test, y_test), callbacks=[history_logger])\n",
        "  return history"
      ],
      "metadata": {
        "id": "-tX-KynC-0b3"
      },
      "execution_count": null,
      "outputs": []
    },
    {
      "cell_type": "code",
      "source": [
        "def eval_model(model, x_test, y_test):\n",
        "  scores = model.evaluate(x_test, y_test, verbose=1)\n",
        "  print('Test loss:', scores[0])\n",
        "  print('Test accuracy:', scores[1])"
      ],
      "metadata": {
        "id": "VYvjYqnD_aEK"
      },
      "execution_count": null,
      "outputs": []
    },
    {
      "cell_type": "code",
      "source": [
        "filename='log2.csv'\n",
        "history_logger=tensorflow.keras.callbacks.CSVLogger(filename, separator=\",\", append=True)"
      ],
      "metadata": {
        "id": "ccz_Y9Scc2y3"
      },
      "execution_count": null,
      "outputs": []
    },
    {
      "cell_type": "code",
      "source": [
        "#create model\n",
        "resnet50_model = create_model()\n",
        "\n",
        "#compile model\n",
        "compile_model(resnet50_model)\n",
        "\n",
        "#fit model\n",
        "resnet_history = fit_model(resnet50_model, x_train, y_train, batch_size, epochs)\n"
      ],
      "metadata": {
        "id": "JKPAgAlNTLOc"
      },
      "execution_count": null,
      "outputs": []
    },
    {
      "cell_type": "code",
      "source": [
        "np.save('history_my_resnet1.npy',resnet50_model.history)\n",
        "\n",
        "resnet_history=np.load('history_my_resnet1.npy',allow_pickle='TRUE').item()"
      ],
      "metadata": {
        "id": "04v95nQadN6-"
      },
      "execution_count": null,
      "outputs": []
    },
    {
      "cell_type": "code",
      "source": [
        "resnet50_model.summary()"
      ],
      "metadata": {
        "id": "S9jM1cFS313o",
        "colab": {
          "base_uri": "https://localhost:8080/"
        },
        "outputId": "b5ffdf10-87b2-48da-a1eb-95f29d945d62"
      },
      "execution_count": null,
      "outputs": [
        {
          "output_type": "stream",
          "name": "stdout",
          "text": [
            "Model: \"sequential\"\n",
            "_________________________________________________________________\n",
            " Layer (type)                Output Shape              Param #   \n",
            "=================================================================\n",
            " up_sampling2d (UpSampling2D  (20, 64, 64, 3)          0         \n",
            " )                                                               \n",
            "                                                                 \n",
            " up_sampling2d_1 (UpSampling  (20, 128, 128, 3)        0         \n",
            " 2D)                                                             \n",
            "                                                                 \n",
            " up_sampling2d_2 (UpSampling  (20, 256, 256, 3)        0         \n",
            " 2D)                                                             \n",
            "                                                                 \n",
            " resnet50 (Functional)       (None, 8, 8, 2048)        23587712  \n",
            "                                                                 \n",
            " flatten (Flatten)           (20, 131072)              0         \n",
            "                                                                 \n",
            " batch_normalization (BatchN  (20, 131072)             524288    \n",
            " ormalization)                                                   \n",
            "                                                                 \n",
            " dense (Dense)               (20, 128)                 16777344  \n",
            "                                                                 \n",
            " dropout (Dropout)           (20, 128)                 0         \n",
            "                                                                 \n",
            " batch_normalization_1 (Batc  (20, 128)                512       \n",
            " hNormalization)                                                 \n",
            "                                                                 \n",
            " dense_1 (Dense)             (20, 64)                  8256      \n",
            "                                                                 \n",
            " dropout_1 (Dropout)         (20, 64)                  0         \n",
            "                                                                 \n",
            " batch_normalization_2 (Batc  (20, 64)                 256       \n",
            " hNormalization)                                                 \n",
            "                                                                 \n",
            " dense_2 (Dense)             (20, 10)                  650       \n",
            "                                                                 \n",
            "=================================================================\n",
            "Total params: 40,899,018\n",
            "Trainable params: 40,583,370\n",
            "Non-trainable params: 315,648\n",
            "_________________________________________________________________\n"
          ]
        }
      ]
    },
    {
      "cell_type": "code",
      "source": [
        "eval_model(resnet50_model, x_test, y_test)"
      ],
      "metadata": {
        "id": "y3H2_MSR_mJu",
        "colab": {
          "base_uri": "https://localhost:8080/"
        },
        "outputId": "79522fb5-3c32-43d1-93f2-cc21c100f56a"
      },
      "execution_count": null,
      "outputs": [
        {
          "output_type": "stream",
          "name": "stdout",
          "text": [
            "313/313 [==============================] - 81s 243ms/step - loss: 0.1254 - acc: 0.9296 - mean_average_precision_metric: 0.9585\n",
            "Test loss: 0.1253945678472519\n",
            "Test accuracy: 0.9296000003814697\n"
          ]
        }
      ]
    },
    {
      "cell_type": "code",
      "source": [
        "resnet_history.history.keys()"
      ],
      "metadata": {
        "id": "Tl4lE9PpObqd",
        "colab": {
          "base_uri": "https://localhost:8080/"
        },
        "outputId": "241c42e6-b5f5-4863-b7a8-22ab9182ec0b"
      },
      "execution_count": null,
      "outputs": [
        {
          "output_type": "execute_result",
          "data": {
            "text/plain": [
              "dict_keys(['loss', 'acc', 'mean_average_precision_metric', 'val_loss', 'val_acc', 'val_mean_average_precision_metric'])"
            ]
          },
          "metadata": {},
          "execution_count": 21
        }
      ]
    },
    {
      "cell_type": "code",
      "source": [
        "# Save the model\n",
        "resnet50_model.save(\"my_cifar_transfer_resnet50_model_no_mean.h5\")"
      ],
      "metadata": {
        "id": "xSyBCvhN__b9"
      },
      "execution_count": null,
      "outputs": []
    },
    {
      "cell_type": "markdown",
      "source": [
        "# Save the model and zip it so you can download it"
      ],
      "metadata": {
        "id": "VZo2yFhepaFP"
      }
    },
    {
      "cell_type": "code",
      "source": [
        "# Save the model\n",
        "resnet50_model.save(\"my_cifar_transfer_resnet50_model_no_mean\")\n",
        "!zip -r my_cifar_transfer_resnet50_model_no_mean.zip my_cifar_transfer_resnet50_model_no_mean"
      ],
      "metadata": {
        "colab": {
          "base_uri": "https://localhost:8080/"
        },
        "id": "2TrbOp-fpdqu",
        "outputId": "40f7e0e4-3135-4b11-fafd-efabd0fe8525"
      },
      "execution_count": null,
      "outputs": [
        {
          "output_type": "stream",
          "name": "stdout",
          "text": [
            "INFO:tensorflow:Assets written to: my_cifar_transfer_resnet50_model_no_mean/assets\n",
            "  adding: my_cifar_transfer_resnet50_model_no_mean/ (stored 0%)\n",
            "  adding: my_cifar_transfer_resnet50_model_no_mean/assets/ (stored 0%)\n",
            "  adding: my_cifar_transfer_resnet50_model_no_mean/saved_model.pb (deflated 92%)\n",
            "  adding: my_cifar_transfer_resnet50_model_no_mean/variables/ (stored 0%)\n",
            "  adding: my_cifar_transfer_resnet50_model_no_mean/variables/variables.index (deflated 81%)\n",
            "  adding: my_cifar_transfer_resnet50_model_no_mean/variables/variables.data-00000-of-00001 (deflated 9%)\n",
            "  adding: my_cifar_transfer_resnet50_model_no_mean/keras_metadata.pb (deflated 96%)\n"
          ]
        }
      ]
    },
    {
      "cell_type": "markdown",
      "source": [
        "## Compare performance between models\n",
        "\n",
        "Need to retrieve model due to an expired session on Google Colab"
      ],
      "metadata": {
        "id": "yWK-7ItHZcmt"
      }
    },
    {
      "cell_type": "code",
      "source": [
        "%cd sample_data"
      ],
      "metadata": {
        "colab": {
          "base_uri": "https://localhost:8080/"
        },
        "id": "mo4VHpz2DQu6",
        "outputId": "8086d1b1-42dd-4e37-9dd8-215877b345fe"
      },
      "execution_count": null,
      "outputs": [
        {
          "output_type": "stream",
          "name": "stdout",
          "text": [
            "/content/sample_data\n"
          ]
        }
      ]
    },
    {
      "cell_type": "code",
      "source": [
        "!unzip my_cifar_cnn_model.zip"
      ],
      "metadata": {
        "colab": {
          "base_uri": "https://localhost:8080/"
        },
        "id": "3Jkxab2tDOKo",
        "outputId": "16dd7816-427e-4d3f-f96b-cf6bf50178d2"
      },
      "execution_count": null,
      "outputs": [
        {
          "output_type": "stream",
          "name": "stdout",
          "text": [
            "Archive:  my_cifar_cnn_model.zip\n",
            "   creating: my_cifar_cnn_model/\n",
            "   creating: my_cifar_cnn_model/assets/\n",
            "  inflating: my_cifar_cnn_model/saved_model.pb  \n",
            "   creating: my_cifar_cnn_model/variables/\n",
            "  inflating: my_cifar_cnn_model/variables/variables.index  \n",
            "  inflating: my_cifar_cnn_model/variables/variables.data-00000-of-00001  \n",
            "  inflating: my_cifar_cnn_model/keras_metadata.pb  \n"
          ]
        }
      ]
    },
    {
      "cell_type": "code",
      "source": [
        "from tensorflow import keras\n",
        "\n",
        "# Import the necessary model\n",
        "from keras.models import load_model\n",
        "\n",
        "# my_CNN_model = keras.models.load_model(\"my_cifar_cnn_model\")\n",
        "my_CNN_model = keras.models.load_model('my_cifar_cnn_model', custom_objects={'MeanAveragePrecisionMetric':MeanAveragePrecisionMetric})"
      ],
      "metadata": {
        "id": "exo0YDWv-oZ8"
      },
      "execution_count": null,
      "outputs": []
    },
    {
      "cell_type": "code",
      "source": [
        "# Evaluate the loaded model after loading weights from tf \n",
        "loss, acc_tf, acc_tf_cust = my_CNN_model.evaluate(x_test, y_test, verbose=1)"
      ],
      "metadata": {
        "colab": {
          "base_uri": "https://localhost:8080/"
        },
        "id": "QyZDWlU5DiZE",
        "outputId": "f37b6e2b-e0e9-404c-af7d-0113d7fa5782"
      },
      "execution_count": null,
      "outputs": [
        {
          "output_type": "stream",
          "name": "stdout",
          "text": [
            "313/313 [==============================] - 5s 12ms/step - loss: 0.6747 - accuracy: 0.8554 - mean_average_precision_metric_1: 0.9152\n"
          ]
        }
      ]
    },
    {
      "cell_type": "code",
      "source": [
        "print(\"accuracy: {:5.2f}%\".format(100*acc_tf))"
      ],
      "metadata": {
        "colab": {
          "base_uri": "https://localhost:8080/"
        },
        "id": "o-psHlJgGmrH",
        "outputId": "c5d85492-8cad-405b-c513-40ef4b25cf2d"
      },
      "execution_count": null,
      "outputs": [
        {
          "output_type": "stream",
          "name": "stdout",
          "text": [
            "accuracy: 85.54%\n"
          ]
        }
      ]
    },
    {
      "cell_type": "code",
      "source": [
        "resnet_loss, resnet_acc, resnet_acc_cust = resnet50_model.evaluate(x_test, y_test, verbose=1)"
      ],
      "metadata": {
        "colab": {
          "base_uri": "https://localhost:8080/"
        },
        "id": "zmYA3vkOKAhR",
        "outputId": "fb1d1953-2957-41fb-efef-54101562160f"
      },
      "execution_count": null,
      "outputs": [
        {
          "output_type": "stream",
          "name": "stdout",
          "text": [
            "313/313 [==============================] - 76s 242ms/step - loss: 0.1254 - acc: 0.9296 - mean_average_precision_metric: 0.9585\n"
          ]
        }
      ]
    },
    {
      "cell_type": "markdown",
      "source": [
        "# COMPARE"
      ],
      "metadata": {
        "id": "49lAnVLfKn3d"
      }
    },
    {
      "cell_type": "code",
      "source": [
        "# plt.subplot(2,1,1)\n",
        "# plt.plot(my_CNN_model.history['accuracy'],color='r',label='cnn')\n",
        "# plt.plot(resnet_history.history['val_acc'],color='b',label='resnet50')\n",
        "# plt.ylabel('accuracy')\n",
        "# plt.xlabel('epoch')\n",
        "# plt.legend(['cnn', 'resnet50'], loc='upper left')\n",
        "\n",
        "# plt.subplot(2,1,2)\n",
        "# plt.plot(my_CNN_model.history['loss'],color='r',label='cnn')\n",
        "# plt.plot(resnet_history.history['val_loss'],color='b',label='resnet50')\n",
        "# plt.ylabel('loss')\n",
        "# plt.xlabel('epoch')\n",
        "# plt.legend(['cnn', 'resnet50'], loc='lower left')\n",
        "\n",
        "# plt.tight_layout(pad=1.0) # Add padding between plots\n",
        "# plt.show()\n",
        "\n",
        "\n",
        "print(\"CNN accuracy: {:5.2f}%\".format(100*acc_tf))\n",
        "print(\"Transfer Learning Resnet50 accuracy: {:5.2f}%\".format(100*resnet_acc))\n",
        "print()\n",
        "print(\"CNN mAP: {:5.2f}\".format(100*acc_tf_cust))\n",
        "print(\"Transfer Learning Resnet50  mAP: {:5.2f}\".format(100*resnet_acc_cust))\n"
      ],
      "metadata": {
        "id": "EwA7lK4tZiK_",
        "colab": {
          "base_uri": "https://localhost:8080/"
        },
        "outputId": "f2b29ad3-473d-4403-aaeb-a47e7ddc3862"
      },
      "execution_count": null,
      "outputs": [
        {
          "output_type": "stream",
          "name": "stdout",
          "text": [
            "CNN accuracy: 85.54%\n",
            "Transfer Learning Resnet50 accuracy: 92.96%\n",
            "\n",
            "CNN mAP: 91.52\n",
            "Transfer Learning Resnet50  mAP: 95.85\n"
          ]
        }
      ]
    },
    {
      "cell_type": "code",
      "source": [
        "# Plotting can be done after nformation about fitting is pulled from hte history that is downloaded"
      ],
      "metadata": {
        "id": "UUDIa2Z_PiFQ"
      },
      "execution_count": null,
      "outputs": []
    }
  ]
}